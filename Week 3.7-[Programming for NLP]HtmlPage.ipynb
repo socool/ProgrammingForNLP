{
 "cells": [
  {
   "cell_type": "code",
   "execution_count": 37,
   "metadata": {},
   "outputs": [],
   "source": [
    "def make_HTML(text_body,tag_name):\n",
    "    \"\"\"\n",
    "    >>>> make_HTML(\"'Hello, World'\",'b')\n",
    "    <html>\n",
    "        <body>\n",
    "            <b>'Hello World'</b>\n",
    "        </body>\n",
    "    </html>\n",
    "    \"\"\"\n",
    "    template_html =\"\"\"\n",
    "    <html>\n",
    "        <body>\n",
    "            <{0}>{1}</{0}>\n",
    "        </body>\n",
    "    </html>\n",
    "    \"\"\".format(tag_name,text_body)\n",
    "    print(template_html)"
   ]
  },
  {
   "cell_type": "code",
   "execution_count": 38,
   "metadata": {},
   "outputs": [
    {
     "name": "stdout",
     "output_type": "stream",
     "text": [
      "\n",
      "    <html>\n",
      "        <body>\n",
      "            <B>sss</B>\n",
      "        </body>\n",
      "    </html>\n",
      "    \n"
     ]
    }
   ],
   "source": [
    "make_HTML(\"sss\",\"B\")"
   ]
  }
 ],
 "metadata": {
  "kernelspec": {
   "display_name": "Python 3",
   "language": "python",
   "name": "python3"
  },
  "language_info": {
   "codemirror_mode": {
    "name": "ipython",
    "version": 3
   },
   "file_extension": ".py",
   "mimetype": "text/x-python",
   "name": "python",
   "nbconvert_exporter": "python",
   "pygments_lexer": "ipython3",
   "version": "3.8.2"
  }
 },
 "nbformat": 4,
 "nbformat_minor": 4
}
