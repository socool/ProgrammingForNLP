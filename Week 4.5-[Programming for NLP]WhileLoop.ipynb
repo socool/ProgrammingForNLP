{
 "cells": [
  {
   "cell_type": "code",
   "execution_count": 1,
   "metadata": {},
   "outputs": [],
   "source": [
    "lyrics = \"\"\"\n",
    "[Verse 1]\n",
    "The club isn't the best place to find a lover\n",
    "So the bar is where I go\n",
    "Me and my friends at the table doing shots\n",
    "Drinking fast and then we talk slow\n",
    "And you come over and start up a conversation with just me\n",
    "And trust me I'll give it a chance now\n",
    "Take my hand, stop, put Van the Man on the jukebox\n",
    "And then we start to dance, and now I'm singing like\n",
    "\n",
    "[Pre-Chorus]\n",
    "Girl, you know I want your love\n",
    "Your love was handmade for somebody like me\n",
    "Come on now, follow my lead\n",
    "I may be crazy, don't mind me\n",
    "Say, boy, let's not talk too much\n",
    "Grab on my waist and put that body on me\n",
    "Come on now, follow my lead\n",
    "Come, come on now, follow my lead\n",
    "\n",
    "[Chorus]\n",
    "I'm in love with the shape of you\n",
    "We push and pull like a magnet do\n",
    "Although my heart is falling too\n",
    "I'm in love with your body\n",
    "And last night you were in my room\n",
    "And now my bed sheets smell like you\n",
    "Every day discovering something brand new\n",
    "I'm in love with your body\n",
    "Oh—I—oh—I—oh—I—oh—I\n",
    "I'm in love with your body\n",
    "Oh—I—oh—I—oh—I—oh—I\n",
    "I'm in love with your body\n",
    "Oh—I—oh—I—oh—I—oh—I\n",
    "I'm in love with your body\n",
    "Every day discovering something brand new\n",
    "I'm in love with the shape of you\"\"\""
   ]
  },
  {
   "cell_type": "code",
   "execution_count": 2,
   "metadata": {},
   "outputs": [],
   "source": [
    "words = lyrics.split(' ')"
   ]
  },
  {
   "cell_type": "code",
   "execution_count": 3,
   "metadata": {},
   "outputs": [],
   "source": [
    "cleaned_words = []"
   ]
  },
  {
   "cell_type": "code",
   "execution_count": 4,
   "metadata": {},
   "outputs": [],
   "source": [
    "for word in words:\n",
    "    if word.strip().isalpha():\n",
    "        cleaned_words.append(word.strip())"
   ]
  },
  {
   "cell_type": "code",
   "execution_count": 77,
   "metadata": {},
   "outputs": [],
   "source": [
    "import random\n",
    "def compose_random(word_list):\n",
    "    random_words=[]\n",
    "    not_found_me = True\n",
    "    while not_found_me:\n",
    "        picked_word = random.choice(word_list)\n",
    "        random_words.append(picked_word)\n",
    "        not_found_me = picked_word != 'you'\n",
    "    print(i)\n",
    "    return random_words"
   ]
  },
  {
   "cell_type": "code",
   "execution_count": 78,
   "metadata": {},
   "outputs": [
    {
     "name": "stdout",
     "output_type": "stream",
     "text": [
      "9\n"
     ]
    },
    {
     "data": {
      "text/plain": [
       "['on',\n",
       " 'brand',\n",
       " 'it',\n",
       " 'in',\n",
       " 'just',\n",
       " 'is',\n",
       " 'push',\n",
       " 'push',\n",
       " 'day',\n",
       " 'start',\n",
       " 'in',\n",
       " 'and',\n",
       " 'where',\n",
       " 'like',\n",
       " 'like',\n",
       " 'singing',\n",
       " 'in',\n",
       " 'heart',\n",
       " 'love',\n",
       " 'then',\n",
       " 'of',\n",
       " 'in',\n",
       " 'on',\n",
       " 'night',\n",
       " 'the',\n",
       " 'of',\n",
       " 'my',\n",
       " 'come',\n",
       " 'my',\n",
       " 'day',\n",
       " 'brand',\n",
       " 'bar',\n",
       " 'with',\n",
       " 'love',\n",
       " 'best',\n",
       " 'not',\n",
       " 'follow',\n",
       " 'may',\n",
       " 'is',\n",
       " 'not',\n",
       " 'my',\n",
       " 'is',\n",
       " 'give',\n",
       " 'love',\n",
       " 'now',\n",
       " 'my',\n",
       " 'then',\n",
       " 'something',\n",
       " 'is',\n",
       " 'on',\n",
       " 'friends',\n",
       " 'doing',\n",
       " 'in',\n",
       " 'on',\n",
       " 'not',\n",
       " 'then',\n",
       " 'for',\n",
       " 'up',\n",
       " 'a',\n",
       " 'falling',\n",
       " 'shape',\n",
       " 'your',\n",
       " 'Man',\n",
       " 'may',\n",
       " 'you']"
      ]
     },
     "execution_count": 78,
     "metadata": {},
     "output_type": "execute_result"
    }
   ],
   "source": [
    "compose_random(cleaned_words)"
   ]
  },
  {
   "cell_type": "code",
   "execution_count": 79,
   "metadata": {},
   "outputs": [
    {
     "name": "stdout",
     "output_type": "stream",
     "text": [
      "9\n"
     ]
    },
    {
     "data": {
      "text/plain": [
       "'a love a your put follow discovering my best in in was follow with your my shape my on waist now a best and day of love now love love table something put be follow the is last love may in chance the discovering my me may give too in a discovering a talk in smell day pull a shape day put your come handmade is with waist mind with with in in with love friends my and day on my your on you'"
      ]
     },
     "execution_count": 79,
     "metadata": {},
     "output_type": "execute_result"
    }
   ],
   "source": [
    "' '.join(compose_random(cleaned_words))"
   ]
  },
  {
   "cell_type": "code",
   "execution_count": 76,
   "metadata": {},
   "outputs": [
    {
     "name": "stdout",
     "output_type": "stream",
     "text": [
      "the\n",
      "love\n",
      "brand\n",
      "like\n",
      "singing\n",
      "know\n",
      "now\n",
      "and\n",
      "love\n",
      "Van\n"
     ]
    }
   ],
   "source": [
    "for i in range(10)\n",
    "    print(random.choice(words))"
   ]
  },
  {
   "cell_type": "code",
   "execution_count": null,
   "metadata": {},
   "outputs": [],
   "source": [
    "while x<y:\n",
    "    print(x)\n",
    "    if x == z:\n",
    "        break\n",
    "    else\n",
    "        print(\"...\")"
   ]
  }
 ],
 "metadata": {
  "kernelspec": {
   "display_name": "Python 3",
   "language": "python",
   "name": "python3"
  },
  "language_info": {
   "codemirror_mode": {
    "name": "ipython",
    "version": 3
   },
   "file_extension": ".py",
   "mimetype": "text/x-python",
   "name": "python",
   "nbconvert_exporter": "python",
   "pygments_lexer": "ipython3",
   "version": "3.8.2"
  }
 },
 "nbformat": 4,
 "nbformat_minor": 4
}
