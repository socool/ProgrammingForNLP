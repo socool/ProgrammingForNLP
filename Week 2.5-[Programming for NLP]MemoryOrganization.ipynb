{
 "cells": [
  {
   "cell_type": "code",
   "execution_count": null,
   "metadata": {},
   "outputs": [],
   "source": [
    "#Stack ความจำของเครื่องส่วนที่เก็บตัวแปร\n",
    "#Heap ความจำของเครื่องส่วนที่เก็บข้อมูล"
   ]
  },
  {
   "cell_type": "markdown",
   "metadata": {},
   "source": [
    "<a href=\"https://ibb.co/5GhjK9m\"><img src=\"https://i.ibb.co/jbkwJ5m/Screen-Shot-2563-04-23-at-21-45-22.png\" alt=\"Screen-Shot-2563-04-23-at-21-45-22\" border=\"0\"></a>"
   ]
  }
 ],
 "metadata": {
  "kernelspec": {
   "display_name": "Python 3",
   "language": "python",
   "name": "python3"
  },
  "language_info": {
   "codemirror_mode": {
    "name": "ipython",
    "version": 3
   },
   "file_extension": ".py",
   "mimetype": "text/x-python",
   "name": "python",
   "nbconvert_exporter": "python",
   "pygments_lexer": "ipython3",
   "version": "3.8.2"
  }
 },
 "nbformat": 4,
 "nbformat_minor": 4
}
