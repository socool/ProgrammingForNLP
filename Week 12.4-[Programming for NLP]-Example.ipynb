{
 "cells": [
  {
   "cell_type": "code",
   "execution_count": 2,
   "metadata": {},
   "outputs": [
    {
     "name": "stdout",
     "output_type": "stream",
     "text": [
      "Requirement already satisfied: spacy in /usr/local/Cellar/jupyterlab/2.1.1/libexec/lib/python3.8/site-packages (2.2.4)\n",
      "Requirement already satisfied: wasabi<1.1.0,>=0.4.0 in /usr/local/Cellar/jupyterlab/2.1.1/libexec/lib/python3.8/site-packages (from spacy) (0.6.0)\n",
      "Requirement already satisfied: srsly<1.1.0,>=1.0.2 in /usr/local/Cellar/jupyterlab/2.1.1/libexec/lib/python3.8/site-packages (from spacy) (1.0.2)\n",
      "Requirement already satisfied: blis<0.5.0,>=0.4.0 in /usr/local/Cellar/jupyterlab/2.1.1/libexec/lib/python3.8/site-packages (from spacy) (0.4.1)\n",
      "Requirement already satisfied: setuptools in /usr/local/Cellar/jupyterlab/2.1.1/libexec/lib/python3.8/site-packages (from spacy) (46.1.3)\n",
      "Requirement already satisfied: tqdm<5.0.0,>=4.38.0 in /usr/local/Cellar/jupyterlab/2.1.1/libexec/lib/python3.8/site-packages (from spacy) (4.46.0)\n",
      "Requirement already satisfied: catalogue<1.1.0,>=0.0.7 in /usr/local/Cellar/jupyterlab/2.1.1/libexec/lib/python3.8/site-packages (from spacy) (1.0.0)\n",
      "Requirement already satisfied: numpy>=1.15.0 in /usr/local/Cellar/jupyterlab/2.1.1/libexec/lib/python3.8/site-packages (from spacy) (1.18.4)\n",
      "Requirement already satisfied: thinc==7.4.0 in /usr/local/Cellar/jupyterlab/2.1.1/libexec/lib/python3.8/site-packages (from spacy) (7.4.0)\n",
      "Requirement already satisfied: plac<1.2.0,>=0.9.6 in /usr/local/Cellar/jupyterlab/2.1.1/libexec/lib/python3.8/site-packages (from spacy) (1.1.3)\n",
      "Requirement already satisfied: cymem<2.1.0,>=2.0.2 in /usr/local/Cellar/jupyterlab/2.1.1/libexec/lib/python3.8/site-packages (from spacy) (2.0.3)\n",
      "Requirement already satisfied: requests<3.0.0,>=2.13.0 in /usr/local/Cellar/jupyterlab/2.1.1/libexec/lib/python3.8/site-packages (from spacy) (2.23.0)\n",
      "Requirement already satisfied: preshed<3.1.0,>=3.0.2 in /usr/local/Cellar/jupyterlab/2.1.1/libexec/lib/python3.8/site-packages (from spacy) (3.0.2)\n",
      "Requirement already satisfied: murmurhash<1.1.0,>=0.28.0 in /usr/local/Cellar/jupyterlab/2.1.1/libexec/lib/python3.8/site-packages (from spacy) (1.0.2)\n",
      "Requirement already satisfied: chardet<4,>=3.0.2 in /usr/local/Cellar/jupyterlab/2.1.1/libexec/lib/python3.8/site-packages (from requests<3.0.0,>=2.13.0->spacy) (3.0.4)\n",
      "Requirement already satisfied: idna<3,>=2.5 in /usr/local/Cellar/jupyterlab/2.1.1/libexec/lib/python3.8/site-packages (from requests<3.0.0,>=2.13.0->spacy) (2.9)\n",
      "Requirement already satisfied: urllib3!=1.25.0,!=1.25.1,<1.26,>=1.21.1 in /usr/local/Cellar/jupyterlab/2.1.1/libexec/lib/python3.8/site-packages (from requests<3.0.0,>=2.13.0->spacy) (1.25.9)\n",
      "Requirement already satisfied: certifi>=2017.4.17 in /usr/local/Cellar/jupyterlab/2.1.1/libexec/lib/python3.8/site-packages (from requests<3.0.0,>=2.13.0->spacy) (2020.4.5.1)\n",
      "\u001b[33mWARNING: You are using pip version 20.0.2; however, version 20.1 is available.\n",
      "You should consider upgrading via the '/usr/local/Cellar/jupyterlab/2.1.1/libexec/bin/python3.8 -m pip install --upgrade pip' command.\u001b[0m\n",
      "Note: you may need to restart the kernel to use updated packages.\n"
     ]
    }
   ],
   "source": [
    "pip install spacy"
   ]
  },
  {
   "cell_type": "code",
   "execution_count": 3,
   "metadata": {},
   "outputs": [
    {
     "name": "stdout",
     "output_type": "stream",
     "text": [
      "Requirement already satisfied: en_core_web_sm==2.2.5 from https://github.com/explosion/spacy-models/releases/download/en_core_web_sm-2.2.5/en_core_web_sm-2.2.5.tar.gz#egg=en_core_web_sm==2.2.5 in /usr/local/Cellar/jupyterlab/2.1.1/libexec/lib/python3.8/site-packages (2.2.5)\n",
      "Requirement already satisfied: spacy>=2.2.2 in /usr/local/Cellar/jupyterlab/2.1.1/libexec/lib/python3.8/site-packages (from en_core_web_sm==2.2.5) (2.2.4)\n",
      "Requirement already satisfied: requests<3.0.0,>=2.13.0 in /usr/local/Cellar/jupyterlab/2.1.1/libexec/lib/python3.8/site-packages (from spacy>=2.2.2->en_core_web_sm==2.2.5) (2.23.0)\n",
      "Requirement already satisfied: setuptools in /usr/local/Cellar/jupyterlab/2.1.1/libexec/lib/python3.8/site-packages (from spacy>=2.2.2->en_core_web_sm==2.2.5) (46.1.3)\n",
      "Requirement already satisfied: numpy>=1.15.0 in /usr/local/Cellar/jupyterlab/2.1.1/libexec/lib/python3.8/site-packages (from spacy>=2.2.2->en_core_web_sm==2.2.5) (1.18.4)\n",
      "Requirement already satisfied: cymem<2.1.0,>=2.0.2 in /usr/local/Cellar/jupyterlab/2.1.1/libexec/lib/python3.8/site-packages (from spacy>=2.2.2->en_core_web_sm==2.2.5) (2.0.3)\n",
      "Requirement already satisfied: murmurhash<1.1.0,>=0.28.0 in /usr/local/Cellar/jupyterlab/2.1.1/libexec/lib/python3.8/site-packages (from spacy>=2.2.2->en_core_web_sm==2.2.5) (1.0.2)\n",
      "Requirement already satisfied: tqdm<5.0.0,>=4.38.0 in /usr/local/Cellar/jupyterlab/2.1.1/libexec/lib/python3.8/site-packages (from spacy>=2.2.2->en_core_web_sm==2.2.5) (4.46.0)\n",
      "Requirement already satisfied: wasabi<1.1.0,>=0.4.0 in /usr/local/Cellar/jupyterlab/2.1.1/libexec/lib/python3.8/site-packages (from spacy>=2.2.2->en_core_web_sm==2.2.5) (0.6.0)\n",
      "Requirement already satisfied: plac<1.2.0,>=0.9.6 in /usr/local/Cellar/jupyterlab/2.1.1/libexec/lib/python3.8/site-packages (from spacy>=2.2.2->en_core_web_sm==2.2.5) (1.1.3)\n",
      "Requirement already satisfied: thinc==7.4.0 in /usr/local/Cellar/jupyterlab/2.1.1/libexec/lib/python3.8/site-packages (from spacy>=2.2.2->en_core_web_sm==2.2.5) (7.4.0)\n",
      "Requirement already satisfied: catalogue<1.1.0,>=0.0.7 in /usr/local/Cellar/jupyterlab/2.1.1/libexec/lib/python3.8/site-packages (from spacy>=2.2.2->en_core_web_sm==2.2.5) (1.0.0)\n",
      "Requirement already satisfied: blis<0.5.0,>=0.4.0 in /usr/local/Cellar/jupyterlab/2.1.1/libexec/lib/python3.8/site-packages (from spacy>=2.2.2->en_core_web_sm==2.2.5) (0.4.1)\n",
      "Requirement already satisfied: srsly<1.1.0,>=1.0.2 in /usr/local/Cellar/jupyterlab/2.1.1/libexec/lib/python3.8/site-packages (from spacy>=2.2.2->en_core_web_sm==2.2.5) (1.0.2)\n",
      "Requirement already satisfied: preshed<3.1.0,>=3.0.2 in /usr/local/Cellar/jupyterlab/2.1.1/libexec/lib/python3.8/site-packages (from spacy>=2.2.2->en_core_web_sm==2.2.5) (3.0.2)\n",
      "Requirement already satisfied: chardet<4,>=3.0.2 in /usr/local/Cellar/jupyterlab/2.1.1/libexec/lib/python3.8/site-packages (from requests<3.0.0,>=2.13.0->spacy>=2.2.2->en_core_web_sm==2.2.5) (3.0.4)\n",
      "Requirement already satisfied: idna<3,>=2.5 in /usr/local/Cellar/jupyterlab/2.1.1/libexec/lib/python3.8/site-packages (from requests<3.0.0,>=2.13.0->spacy>=2.2.2->en_core_web_sm==2.2.5) (2.9)\n",
      "Requirement already satisfied: urllib3!=1.25.0,!=1.25.1,<1.26,>=1.21.1 in /usr/local/Cellar/jupyterlab/2.1.1/libexec/lib/python3.8/site-packages (from requests<3.0.0,>=2.13.0->spacy>=2.2.2->en_core_web_sm==2.2.5) (1.25.9)\n",
      "Requirement already satisfied: certifi>=2017.4.17 in /usr/local/Cellar/jupyterlab/2.1.1/libexec/lib/python3.8/site-packages (from requests<3.0.0,>=2.13.0->spacy>=2.2.2->en_core_web_sm==2.2.5) (2020.4.5.1)\n",
      "\u001b[33mWARNING: You are using pip version 20.0.2; however, version 20.1 is available.\n",
      "You should consider upgrading via the '/usr/local/Cellar/jupyterlab/2.1.1/libexec/bin/python3.8 -m pip install --upgrade pip' command.\u001b[0m\n",
      "\u001b[38;5;2m✔ Download and installation successful\u001b[0m\n",
      "You can now load the model via spacy.load('en_core_web_sm')\n",
      "\u001b[38;5;2m✔ Linking successful\u001b[0m\n",
      "/usr/local/Cellar/jupyterlab/2.1.1/libexec/lib/python3.8/site-packages/en_core_web_sm\n",
      "-->\n",
      "/usr/local/Cellar/jupyterlab/2.1.1/libexec/lib/python3.8/site-packages/spacy/data/en\n",
      "You can now load the model via spacy.load('en')\n",
      "Collecting fr_core_news_sm==2.2.5\n",
      "  Downloading https://github.com/explosion/spacy-models/releases/download/fr_core_news_sm-2.2.5/fr_core_news_sm-2.2.5.tar.gz (14.7 MB)\n",
      "\u001b[K     |████████████████████████████████| 14.7 MB 1.0 MB/s eta 0:00:01\n",
      "\u001b[?25hRequirement already satisfied: spacy>=2.2.2 in /usr/local/Cellar/jupyterlab/2.1.1/libexec/lib/python3.8/site-packages (from fr_core_news_sm==2.2.5) (2.2.4)\n",
      "Requirement already satisfied: blis<0.5.0,>=0.4.0 in /usr/local/Cellar/jupyterlab/2.1.1/libexec/lib/python3.8/site-packages (from spacy>=2.2.2->fr_core_news_sm==2.2.5) (0.4.1)\n",
      "Requirement already satisfied: catalogue<1.1.0,>=0.0.7 in /usr/local/Cellar/jupyterlab/2.1.1/libexec/lib/python3.8/site-packages (from spacy>=2.2.2->fr_core_news_sm==2.2.5) (1.0.0)\n",
      "Requirement already satisfied: setuptools in /usr/local/Cellar/jupyterlab/2.1.1/libexec/lib/python3.8/site-packages (from spacy>=2.2.2->fr_core_news_sm==2.2.5) (46.1.3)\n",
      "Requirement already satisfied: plac<1.2.0,>=0.9.6 in /usr/local/Cellar/jupyterlab/2.1.1/libexec/lib/python3.8/site-packages (from spacy>=2.2.2->fr_core_news_sm==2.2.5) (1.1.3)\n",
      "Requirement already satisfied: cymem<2.1.0,>=2.0.2 in /usr/local/Cellar/jupyterlab/2.1.1/libexec/lib/python3.8/site-packages (from spacy>=2.2.2->fr_core_news_sm==2.2.5) (2.0.3)\n",
      "Requirement already satisfied: wasabi<1.1.0,>=0.4.0 in /usr/local/Cellar/jupyterlab/2.1.1/libexec/lib/python3.8/site-packages (from spacy>=2.2.2->fr_core_news_sm==2.2.5) (0.6.0)\n",
      "Requirement already satisfied: requests<3.0.0,>=2.13.0 in /usr/local/Cellar/jupyterlab/2.1.1/libexec/lib/python3.8/site-packages (from spacy>=2.2.2->fr_core_news_sm==2.2.5) (2.23.0)\n",
      "Requirement already satisfied: tqdm<5.0.0,>=4.38.0 in /usr/local/Cellar/jupyterlab/2.1.1/libexec/lib/python3.8/site-packages (from spacy>=2.2.2->fr_core_news_sm==2.2.5) (4.46.0)\n",
      "Requirement already satisfied: thinc==7.4.0 in /usr/local/Cellar/jupyterlab/2.1.1/libexec/lib/python3.8/site-packages (from spacy>=2.2.2->fr_core_news_sm==2.2.5) (7.4.0)\n",
      "Requirement already satisfied: srsly<1.1.0,>=1.0.2 in /usr/local/Cellar/jupyterlab/2.1.1/libexec/lib/python3.8/site-packages (from spacy>=2.2.2->fr_core_news_sm==2.2.5) (1.0.2)\n",
      "Requirement already satisfied: numpy>=1.15.0 in /usr/local/Cellar/jupyterlab/2.1.1/libexec/lib/python3.8/site-packages (from spacy>=2.2.2->fr_core_news_sm==2.2.5) (1.18.4)\n",
      "Requirement already satisfied: murmurhash<1.1.0,>=0.28.0 in /usr/local/Cellar/jupyterlab/2.1.1/libexec/lib/python3.8/site-packages (from spacy>=2.2.2->fr_core_news_sm==2.2.5) (1.0.2)\n",
      "Requirement already satisfied: preshed<3.1.0,>=3.0.2 in /usr/local/Cellar/jupyterlab/2.1.1/libexec/lib/python3.8/site-packages (from spacy>=2.2.2->fr_core_news_sm==2.2.5) (3.0.2)\n",
      "Requirement already satisfied: chardet<4,>=3.0.2 in /usr/local/Cellar/jupyterlab/2.1.1/libexec/lib/python3.8/site-packages (from requests<3.0.0,>=2.13.0->spacy>=2.2.2->fr_core_news_sm==2.2.5) (3.0.4)\n",
      "Requirement already satisfied: idna<3,>=2.5 in /usr/local/Cellar/jupyterlab/2.1.1/libexec/lib/python3.8/site-packages (from requests<3.0.0,>=2.13.0->spacy>=2.2.2->fr_core_news_sm==2.2.5) (2.9)\n",
      "Requirement already satisfied: urllib3!=1.25.0,!=1.25.1,<1.26,>=1.21.1 in /usr/local/Cellar/jupyterlab/2.1.1/libexec/lib/python3.8/site-packages (from requests<3.0.0,>=2.13.0->spacy>=2.2.2->fr_core_news_sm==2.2.5) (1.25.9)\n",
      "Requirement already satisfied: certifi>=2017.4.17 in /usr/local/Cellar/jupyterlab/2.1.1/libexec/lib/python3.8/site-packages (from requests<3.0.0,>=2.13.0->spacy>=2.2.2->fr_core_news_sm==2.2.5) (2020.4.5.1)\n",
      "Building wheels for collected packages: fr-core-news-sm\n",
      "  Building wheel for fr-core-news-sm (setup.py) ... \u001b[?25ldone\n",
      "\u001b[?25h  Created wheel for fr-core-news-sm: filename=fr_core_news_sm-2.2.5-py3-none-any.whl size=14727028 sha256=5b41cce3fe81db1598b130d83596bbeb19447bf77e0a7bdff6f598a2220e69e1\n",
      "  Stored in directory: /private/var/folders/r5/b13l8zcn6v99sq1l75grrp4h0000gn/T/pip-ephem-wheel-cache-ndat8rtf/wheels/6a/ed/14/170c0e4b342e2214bd0677ae467cab17835cab06bb98ea94af\n",
      "Successfully built fr-core-news-sm\n",
      "Installing collected packages: fr-core-news-sm\n",
      "Successfully installed fr-core-news-sm-2.2.5\n",
      "\u001b[33mWARNING: You are using pip version 20.0.2; however, version 20.1 is available.\n",
      "You should consider upgrading via the '/usr/local/Cellar/jupyterlab/2.1.1/libexec/bin/python3.8 -m pip install --upgrade pip' command.\u001b[0m\n",
      "\u001b[38;5;2m✔ Download and installation successful\u001b[0m\n",
      "You can now load the model via spacy.load('fr_core_news_sm')\n",
      "\u001b[38;5;2m✔ Linking successful\u001b[0m\n",
      "/usr/local/Cellar/jupyterlab/2.1.1/libexec/lib/python3.8/site-packages/fr_core_news_sm\n",
      "-->\n",
      "/usr/local/Cellar/jupyterlab/2.1.1/libexec/lib/python3.8/site-packages/spacy/data/fr\n",
      "You can now load the model via spacy.load('fr')\n"
     ]
    }
   ],
   "source": [
    "!{sys.executable} -m spacy download en\n",
    "!{sys.executable} -m spacy download fr"
   ]
  },
  {
   "cell_type": "code",
   "execution_count": 4,
   "metadata": {},
   "outputs": [],
   "source": [
    "import corpus\n",
    "from importlib import reload"
   ]
  },
  {
   "cell_type": "code",
   "execution_count": 18,
   "metadata": {},
   "outputs": [
    {
     "data": {
      "text/plain": [
       "<module 'corpus' from '/Users/bcorpse/Documents/CodeWork/Jupyter/LearningPythonNLP/corpus.py'>"
      ]
     },
     "execution_count": 18,
     "metadata": {},
     "output_type": "execute_result"
    }
   ],
   "source": [
    "reload(corpus)"
   ]
  },
  {
   "cell_type": "code",
   "execution_count": 19,
   "metadata": {},
   "outputs": [],
   "source": [
    "t = corpus.CorpusAnalyzer('data/corona-1.txt','en')"
   ]
  },
  {
   "cell_type": "code",
   "execution_count": 22,
   "metadata": {},
   "outputs": [
    {
     "data": {
      "text/plain": [
       "16"
      ]
     },
     "execution_count": 22,
     "metadata": {},
     "output_type": "execute_result"
    }
   ],
   "source": [
    "t.get_num_sentences()"
   ]
  }
 ],
 "metadata": {
  "kernelspec": {
   "display_name": "Python 3",
   "language": "python",
   "name": "python3"
  },
  "language_info": {
   "codemirror_mode": {
    "name": "ipython",
    "version": 3
   },
   "file_extension": ".py",
   "mimetype": "text/x-python",
   "name": "python",
   "nbconvert_exporter": "python",
   "pygments_lexer": "ipython3",
   "version": "3.8.2"
  }
 },
 "nbformat": 4,
 "nbformat_minor": 4
}
