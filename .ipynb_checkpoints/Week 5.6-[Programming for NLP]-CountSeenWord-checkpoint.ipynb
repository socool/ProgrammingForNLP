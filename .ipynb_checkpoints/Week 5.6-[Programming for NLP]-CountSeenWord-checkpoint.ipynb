{
 "cells": [
  {
   "cell_type": "code",
   "execution_count": 1,
   "metadata": {},
   "outputs": [
    {
     "name": "stdout",
     "output_type": "stream",
     "text": [
      "Collecting https://github.com/PyThaiNLP/pythainlp/archive/dev.zip\n",
      "  Downloading https://github.com/PyThaiNLP/pythainlp/archive/dev.zip\n",
      "\u001b[K     / 14.8 MB 428 kB/s\n",
      "\u001b[?25hRequirement already satisfied (use --upgrade to upgrade): pythainlp==2.2.0.dev0 from https://github.com/PyThaiNLP/pythainlp/archive/dev.zip in /Users/bcorpse/.local/share/virtualenvs/bcorpse-QdCSTF1Z/lib/python3.8/site-packages\n",
      "Requirement already satisfied: dill>=0.3.0 in /Users/bcorpse/.local/share/virtualenvs/bcorpse-QdCSTF1Z/lib/python3.8/site-packages (from pythainlp==2.2.0.dev0) (0.3.1.1)\n",
      "Requirement already satisfied: nltk>=3.3 in /Users/bcorpse/.local/share/virtualenvs/bcorpse-QdCSTF1Z/lib/python3.8/site-packages (from pythainlp==2.2.0.dev0) (3.5)\n",
      "Requirement already satisfied: python-crfsuite>=0.9.6 in /Users/bcorpse/.local/share/virtualenvs/bcorpse-QdCSTF1Z/lib/python3.8/site-packages (from pythainlp==2.2.0.dev0) (0.9.7)\n",
      "Requirement already satisfied: requests>=2.22.0 in /Users/bcorpse/.local/share/virtualenvs/bcorpse-QdCSTF1Z/lib/python3.8/site-packages (from pythainlp==2.2.0.dev0) (2.23.0)\n",
      "Requirement already satisfied: tinydb>=3.0 in /Users/bcorpse/.local/share/virtualenvs/bcorpse-QdCSTF1Z/lib/python3.8/site-packages (from pythainlp==2.2.0.dev0) (3.15.2)\n",
      "Requirement already satisfied: tqdm>=4.1 in /Users/bcorpse/.local/share/virtualenvs/bcorpse-QdCSTF1Z/lib/python3.8/site-packages (from pythainlp==2.2.0.dev0) (4.45.0)\n",
      "Requirement already satisfied: regex in /Users/bcorpse/.local/share/virtualenvs/bcorpse-QdCSTF1Z/lib/python3.8/site-packages (from nltk>=3.3->pythainlp==2.2.0.dev0) (2020.4.4)\n",
      "Requirement already satisfied: joblib in /Users/bcorpse/.local/share/virtualenvs/bcorpse-QdCSTF1Z/lib/python3.8/site-packages (from nltk>=3.3->pythainlp==2.2.0.dev0) (0.14.1)\n",
      "Requirement already satisfied: click in /Users/bcorpse/.local/share/virtualenvs/bcorpse-QdCSTF1Z/lib/python3.8/site-packages (from nltk>=3.3->pythainlp==2.2.0.dev0) (7.1.1)\n",
      "Requirement already satisfied: urllib3!=1.25.0,!=1.25.1,<1.26,>=1.21.1 in /Users/bcorpse/.local/share/virtualenvs/bcorpse-QdCSTF1Z/lib/python3.8/site-packages (from requests>=2.22.0->pythainlp==2.2.0.dev0) (1.25.9)\n",
      "Requirement already satisfied: chardet<4,>=3.0.2 in /Users/bcorpse/.local/share/virtualenvs/bcorpse-QdCSTF1Z/lib/python3.8/site-packages (from requests>=2.22.0->pythainlp==2.2.0.dev0) (3.0.4)\n",
      "Requirement already satisfied: idna<3,>=2.5 in /Users/bcorpse/.local/share/virtualenvs/bcorpse-QdCSTF1Z/lib/python3.8/site-packages (from requests>=2.22.0->pythainlp==2.2.0.dev0) (2.9)\n",
      "Requirement already satisfied: certifi>=2017.4.17 in /Users/bcorpse/.local/share/virtualenvs/bcorpse-QdCSTF1Z/lib/python3.8/site-packages (from requests>=2.22.0->pythainlp==2.2.0.dev0) (2020.4.5.1)\n",
      "Building wheels for collected packages: pythainlp\n",
      "  Building wheel for pythainlp (setup.py) ... \u001b[?25ldone\n",
      "\u001b[?25h  Created wheel for pythainlp: filename=pythainlp-2.2.0.dev0-py3-none-any.whl size=13171211 sha256=7ae039d84bf6d09ab1f6068057b6372ac22788c3a66cf97f3fbc99ac346c8ccb\n",
      "  Stored in directory: /private/var/folders/r5/b13l8zcn6v99sq1l75grrp4h0000gn/T/pip-ephem-wheel-cache-6olvp5j8/wheels/51/04/24/dbbb71f7536162532b7e9d1103f43f48f2f93a8c42e5bdd32b\n",
      "Successfully built pythainlp\n",
      "Requirement already satisfied: epitran in /Users/bcorpse/.local/share/virtualenvs/bcorpse-QdCSTF1Z/lib/python3.8/site-packages (1.8)\n",
      "Requirement already satisfied: unicodecsv in /Users/bcorpse/.local/share/virtualenvs/bcorpse-QdCSTF1Z/lib/python3.8/site-packages (from epitran) (0.14.1)\n",
      "Requirement already satisfied: marisa-trie in /Users/bcorpse/.local/share/virtualenvs/bcorpse-QdCSTF1Z/lib/python3.8/site-packages (from epitran) (0.7.5)\n",
      "Requirement already satisfied: setuptools in /Users/bcorpse/.local/share/virtualenvs/bcorpse-QdCSTF1Z/lib/python3.8/site-packages (from epitran) (46.0.0)\n",
      "Requirement already satisfied: regex in /Users/bcorpse/.local/share/virtualenvs/bcorpse-QdCSTF1Z/lib/python3.8/site-packages (from epitran) (2020.4.4)\n",
      "Requirement already satisfied: panphon>=0.16 in /Users/bcorpse/.local/share/virtualenvs/bcorpse-QdCSTF1Z/lib/python3.8/site-packages (from epitran) (0.17)\n",
      "Requirement already satisfied: numpy in /Users/bcorpse/.local/share/virtualenvs/bcorpse-QdCSTF1Z/lib/python3.8/site-packages (from panphon>=0.16->epitran) (1.18.3)\n",
      "Requirement already satisfied: editdistance in /Users/bcorpse/.local/share/virtualenvs/bcorpse-QdCSTF1Z/lib/python3.8/site-packages (from panphon>=0.16->epitran) (0.5.3)\n",
      "Requirement already satisfied: PyYAML in /Users/bcorpse/.local/share/virtualenvs/bcorpse-QdCSTF1Z/lib/python3.8/site-packages (from panphon>=0.16->epitran) (5.3.1)\n",
      "Requirement already satisfied: munkres in /Users/bcorpse/.local/share/virtualenvs/bcorpse-QdCSTF1Z/lib/python3.8/site-packages (from panphon>=0.16->epitran) (1.1.2)\n",
      "Requirement already satisfied: sklearn_crfsuite in /Users/bcorpse/.local/share/virtualenvs/bcorpse-QdCSTF1Z/lib/python3.8/site-packages (0.3.6)\n",
      "Requirement already satisfied: tqdm>=2.0 in /Users/bcorpse/.local/share/virtualenvs/bcorpse-QdCSTF1Z/lib/python3.8/site-packages (from sklearn_crfsuite) (4.45.0)\n",
      "Requirement already satisfied: python-crfsuite>=0.8.3 in /Users/bcorpse/.local/share/virtualenvs/bcorpse-QdCSTF1Z/lib/python3.8/site-packages (from sklearn_crfsuite) (0.9.7)\n",
      "Requirement already satisfied: tabulate in /Users/bcorpse/.local/share/virtualenvs/bcorpse-QdCSTF1Z/lib/python3.8/site-packages (from sklearn_crfsuite) (0.8.7)\n",
      "Requirement already satisfied: six in /Users/bcorpse/.local/share/virtualenvs/bcorpse-QdCSTF1Z/lib/python3.8/site-packages (from sklearn_crfsuite) (1.14.0)\n"
     ]
    }
   ],
   "source": [
    "!pip install https://github.com/PyThaiNLP/pythainlp/archive/dev.zip\n",
    "!pip install epitran\n",
    "!pip install sklearn_crfsuite"
   ]
  },
  {
   "cell_type": "code",
   "execution_count": 2,
   "metadata": {},
   "outputs": [],
   "source": [
    "from pythainlp.corpus.common import thai_words\n",
    "from pythainlp.tokenize import dict_trie\n",
    "from pythainlp import word_tokenize, Tokenizer"
   ]
  },
  {
   "cell_type": "code",
   "execution_count": 13,
   "metadata": {},
   "outputs": [],
   "source": [
    "def count_words():\n",
    "    data_file = open('data/niraj-muang-klaeng-cleaned.txt')\n",
    "    new_words = {\"วาศนา\",\"สุราไลย\",\"รดา\",\"ชลา\",\"นัครา\",\"กระแสชล\",\"กอกก\",\"คเน\",\"มากมาย\"\n",
    "             ,\"อาไลย\",\"คนอง\",\"กระเทียม\",\"สท้าน\",\"ลออง\",\"ครึก\",\"สกิด\",\"ภัคตร์\",\"เขตร\",\n",
    "            \"แขง\",\"ไอสวรรย์\",\"พงา\",\"อุส่าห์\",\"พนาไลย\",\"พนาวัน\",\"ศรีมหาราชา\",\"มหาชลาไหล\"\n",
    "            ,\"มหาระนพ\",\"ตวัน\",\"บรรไลย\"}\n",
    "    words = new_words.union(thai_words())\n",
    "    custom_dictionary_trie = dict_trie(words)\n",
    "    word_to_count = {}\n",
    "    # for each line\n",
    "    for poem_line in data_file:\n",
    "        tokenize = word_tokenize(poem_line,custom_dict=custom_dictionary_trie, engine=\"longest\")\n",
    "        for word_index in range(len(tokenize)):\n",
    "            word_to_count[tokenize[word_index]] = word_to_count[tokenize[word_index]] + 1\n",
    "    return word_to_count\n",
    "        "
   ]
  },
  {
   "cell_type": "code",
   "execution_count": 14,
   "metadata": {},
   "outputs": [
    {
     "ename": "KeyError",
     "evalue": "'โอ้'",
     "output_type": "error",
     "traceback": [
      "\u001b[0;31m---------------------------------------------------------------------------\u001b[0m",
      "\u001b[0;31mKeyError\u001b[0m                                  Traceback (most recent call last)",
      "\u001b[0;32m<ipython-input-14-576ee280a494>\u001b[0m in \u001b[0;36m<module>\u001b[0;34m\u001b[0m\n\u001b[0;32m----> 1\u001b[0;31m \u001b[0mprint\u001b[0m\u001b[0;34m(\u001b[0m\u001b[0mcount_words\u001b[0m\u001b[0;34m(\u001b[0m\u001b[0;34m)\u001b[0m\u001b[0;34m)\u001b[0m\u001b[0;34m\u001b[0m\u001b[0;34m\u001b[0m\u001b[0m\n\u001b[0m",
      "\u001b[0;32m<ipython-input-13-214c030cfe5e>\u001b[0m in \u001b[0;36mcount_words\u001b[0;34m()\u001b[0m\n\u001b[1;32m     13\u001b[0m         \u001b[0mtokenize\u001b[0m \u001b[0;34m=\u001b[0m \u001b[0mtokenize\u001b[0m\u001b[0;34m[\u001b[0m\u001b[0;34m:\u001b[0m\u001b[0;34m-\u001b[0m\u001b[0;36m1\u001b[0m\u001b[0;34m]\u001b[0m\u001b[0;31m# not include new line in end of text\u001b[0m\u001b[0;34m\u001b[0m\u001b[0;34m\u001b[0m\u001b[0m\n\u001b[1;32m     14\u001b[0m         \u001b[0;32mfor\u001b[0m \u001b[0mword_index\u001b[0m \u001b[0;32min\u001b[0m \u001b[0mrange\u001b[0m\u001b[0;34m(\u001b[0m\u001b[0mlen\u001b[0m\u001b[0;34m(\u001b[0m\u001b[0mtokenize\u001b[0m\u001b[0;34m)\u001b[0m\u001b[0;34m)\u001b[0m\u001b[0;34m:\u001b[0m\u001b[0;34m\u001b[0m\u001b[0;34m\u001b[0m\u001b[0m\n\u001b[0;32m---> 15\u001b[0;31m             \u001b[0mword_to_count\u001b[0m\u001b[0;34m[\u001b[0m\u001b[0mtokenize\u001b[0m\u001b[0;34m[\u001b[0m\u001b[0mword_index\u001b[0m\u001b[0;34m]\u001b[0m\u001b[0;34m]\u001b[0m \u001b[0;34m=\u001b[0m \u001b[0mword_to_count\u001b[0m\u001b[0;34m[\u001b[0m\u001b[0mtokenize\u001b[0m\u001b[0;34m[\u001b[0m\u001b[0mword_index\u001b[0m\u001b[0;34m]\u001b[0m\u001b[0;34m]\u001b[0m \u001b[0;34m+\u001b[0m \u001b[0;36m1\u001b[0m\u001b[0;34m\u001b[0m\u001b[0;34m\u001b[0m\u001b[0m\n\u001b[0m\u001b[1;32m     16\u001b[0m     \u001b[0;32mreturn\u001b[0m \u001b[0mword_to_count\u001b[0m\u001b[0;34m\u001b[0m\u001b[0;34m\u001b[0m\u001b[0m\n\u001b[1;32m     17\u001b[0m \u001b[0;34m\u001b[0m\u001b[0m\n",
      "\u001b[0;31mKeyError\u001b[0m: 'โอ้'"
     ]
    }
   ],
   "source": [
    "print(count_words())"
   ]
  },
  {
   "cell_type": "code",
   "execution_count": null,
   "metadata": {},
   "outputs": [],
   "source": []
  }
 ],
 "metadata": {
  "kernelspec": {
   "display_name": "Python 3",
   "language": "python",
   "name": "python3"
  },
  "language_info": {
   "codemirror_mode": {
    "name": "ipython",
    "version": 3
   },
   "file_extension": ".py",
   "mimetype": "text/x-python",
   "name": "python",
   "nbconvert_exporter": "python",
   "pygments_lexer": "ipython3",
   "version": "3.8.2"
  }
 },
 "nbformat": 4,
 "nbformat_minor": 4
}
