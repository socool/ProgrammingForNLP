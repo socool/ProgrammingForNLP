{
 "cells": [
  {
   "cell_type": "code",
   "execution_count": 1,
   "metadata": {},
   "outputs": [
    {
     "name": "stdout",
     "output_type": "stream",
     "text": [
      "Collecting https://github.com/PyThaiNLP/pythainlp/archive/dev.zip\n",
      "  Using cached https://github.com/PyThaiNLP/pythainlp/archive/dev.zip\n",
      "Requirement already satisfied (use --upgrade to upgrade): pythainlp==2.2.0.dev0 from https://github.com/PyThaiNLP/pythainlp/archive/dev.zip in /Users/bcorpse/.local/share/virtualenvs/bcorpse-QdCSTF1Z/lib/python3.8/site-packages\n",
      "Requirement already satisfied: dill>=0.3.0 in /Users/bcorpse/.local/share/virtualenvs/bcorpse-QdCSTF1Z/lib/python3.8/site-packages (from pythainlp==2.2.0.dev0) (0.3.1.1)\n",
      "Requirement already satisfied: nltk>=3.3 in /Users/bcorpse/.local/share/virtualenvs/bcorpse-QdCSTF1Z/lib/python3.8/site-packages (from pythainlp==2.2.0.dev0) (3.5)\n",
      "Requirement already satisfied: python-crfsuite>=0.9.6 in /Users/bcorpse/.local/share/virtualenvs/bcorpse-QdCSTF1Z/lib/python3.8/site-packages (from pythainlp==2.2.0.dev0) (0.9.7)\n",
      "Requirement already satisfied: requests>=2.22.0 in /Users/bcorpse/.local/share/virtualenvs/bcorpse-QdCSTF1Z/lib/python3.8/site-packages (from pythainlp==2.2.0.dev0) (2.23.0)\n",
      "Requirement already satisfied: tinydb>=3.0 in /Users/bcorpse/.local/share/virtualenvs/bcorpse-QdCSTF1Z/lib/python3.8/site-packages (from pythainlp==2.2.0.dev0) (3.15.2)\n",
      "Requirement already satisfied: tqdm>=4.1 in /Users/bcorpse/.local/share/virtualenvs/bcorpse-QdCSTF1Z/lib/python3.8/site-packages (from pythainlp==2.2.0.dev0) (4.45.0)\n",
      "Requirement already satisfied: regex in /Users/bcorpse/.local/share/virtualenvs/bcorpse-QdCSTF1Z/lib/python3.8/site-packages (from nltk>=3.3->pythainlp==2.2.0.dev0) (2020.4.4)\n",
      "Requirement already satisfied: joblib in /Users/bcorpse/.local/share/virtualenvs/bcorpse-QdCSTF1Z/lib/python3.8/site-packages (from nltk>=3.3->pythainlp==2.2.0.dev0) (0.14.1)\n",
      "Requirement already satisfied: click in /Users/bcorpse/.local/share/virtualenvs/bcorpse-QdCSTF1Z/lib/python3.8/site-packages (from nltk>=3.3->pythainlp==2.2.0.dev0) (7.1.1)\n",
      "Requirement already satisfied: urllib3!=1.25.0,!=1.25.1,<1.26,>=1.21.1 in /Users/bcorpse/.local/share/virtualenvs/bcorpse-QdCSTF1Z/lib/python3.8/site-packages (from requests>=2.22.0->pythainlp==2.2.0.dev0) (1.25.9)\n",
      "Requirement already satisfied: idna<3,>=2.5 in /Users/bcorpse/.local/share/virtualenvs/bcorpse-QdCSTF1Z/lib/python3.8/site-packages (from requests>=2.22.0->pythainlp==2.2.0.dev0) (2.9)\n",
      "Requirement already satisfied: certifi>=2017.4.17 in /Users/bcorpse/.local/share/virtualenvs/bcorpse-QdCSTF1Z/lib/python3.8/site-packages (from requests>=2.22.0->pythainlp==2.2.0.dev0) (2020.4.5.1)\n",
      "Requirement already satisfied: chardet<4,>=3.0.2 in /Users/bcorpse/.local/share/virtualenvs/bcorpse-QdCSTF1Z/lib/python3.8/site-packages (from requests>=2.22.0->pythainlp==2.2.0.dev0) (3.0.4)\n",
      "Building wheels for collected packages: pythainlp\n",
      "  Building wheel for pythainlp (setup.py) ... \u001b[?25ldone\n",
      "\u001b[?25h  Created wheel for pythainlp: filename=pythainlp-2.2.0.dev0-py3-none-any.whl size=13138354 sha256=21bffdaa8facc3449ac01a69fb4996d3e1504623af536a9d8dbd1fa3b6ad98dc\n",
      "  Stored in directory: /private/var/folders/r5/b13l8zcn6v99sq1l75grrp4h0000gn/T/pip-ephem-wheel-cache-5j0e9g9u/wheels/51/04/24/dbbb71f7536162532b7e9d1103f43f48f2f93a8c42e5bdd32b\n",
      "Successfully built pythainlp\n",
      "Requirement already satisfied: epitran in /Users/bcorpse/.local/share/virtualenvs/bcorpse-QdCSTF1Z/lib/python3.8/site-packages (1.8)\n",
      "Requirement already satisfied: setuptools in /Users/bcorpse/.local/share/virtualenvs/bcorpse-QdCSTF1Z/lib/python3.8/site-packages (from epitran) (46.0.0)\n",
      "Requirement already satisfied: panphon>=0.16 in /Users/bcorpse/.local/share/virtualenvs/bcorpse-QdCSTF1Z/lib/python3.8/site-packages (from epitran) (0.17)\n",
      "Requirement already satisfied: marisa-trie in /Users/bcorpse/.local/share/virtualenvs/bcorpse-QdCSTF1Z/lib/python3.8/site-packages (from epitran) (0.7.5)\n",
      "Requirement already satisfied: regex in /Users/bcorpse/.local/share/virtualenvs/bcorpse-QdCSTF1Z/lib/python3.8/site-packages (from epitran) (2020.4.4)\n",
      "Requirement already satisfied: unicodecsv in /Users/bcorpse/.local/share/virtualenvs/bcorpse-QdCSTF1Z/lib/python3.8/site-packages (from epitran) (0.14.1)\n",
      "Requirement already satisfied: munkres in /Users/bcorpse/.local/share/virtualenvs/bcorpse-QdCSTF1Z/lib/python3.8/site-packages (from panphon>=0.16->epitran) (1.1.2)\n",
      "Requirement already satisfied: editdistance in /Users/bcorpse/.local/share/virtualenvs/bcorpse-QdCSTF1Z/lib/python3.8/site-packages (from panphon>=0.16->epitran) (0.5.3)\n",
      "Requirement already satisfied: numpy in /Users/bcorpse/.local/share/virtualenvs/bcorpse-QdCSTF1Z/lib/python3.8/site-packages (from panphon>=0.16->epitran) (1.18.3)\n",
      "Requirement already satisfied: PyYAML in /Users/bcorpse/.local/share/virtualenvs/bcorpse-QdCSTF1Z/lib/python3.8/site-packages (from panphon>=0.16->epitran) (5.3.1)\n",
      "Requirement already satisfied: sklearn_crfsuite in /Users/bcorpse/.local/share/virtualenvs/bcorpse-QdCSTF1Z/lib/python3.8/site-packages (0.3.6)\n",
      "Requirement already satisfied: tqdm>=2.0 in /Users/bcorpse/.local/share/virtualenvs/bcorpse-QdCSTF1Z/lib/python3.8/site-packages (from sklearn_crfsuite) (4.45.0)\n",
      "Requirement already satisfied: python-crfsuite>=0.8.3 in /Users/bcorpse/.local/share/virtualenvs/bcorpse-QdCSTF1Z/lib/python3.8/site-packages (from sklearn_crfsuite) (0.9.7)\n",
      "Requirement already satisfied: six in /Users/bcorpse/.local/share/virtualenvs/bcorpse-QdCSTF1Z/lib/python3.8/site-packages (from sklearn_crfsuite) (1.14.0)\n",
      "Requirement already satisfied: tabulate in /Users/bcorpse/.local/share/virtualenvs/bcorpse-QdCSTF1Z/lib/python3.8/site-packages (from sklearn_crfsuite) (0.8.7)\n"
     ]
    }
   ],
   "source": [
    "!pip install https://github.com/PyThaiNLP/pythainlp/archive/dev.zip\n",
    "!pip install epitran\n",
    "!pip install sklearn_crfsuite"
   ]
  },
  {
   "cell_type": "code",
   "execution_count": 10,
   "metadata": {},
   "outputs": [],
   "source": [
    "from pythainlp.corpus.common import thai_words\n",
    "from pythainlp.tokenize import dict_trie\n",
    "from pythainlp import word_tokenize, Tokenizer"
   ]
  },
  {
   "cell_type": "code",
   "execution_count": 109,
   "metadata": {},
   "outputs": [],
   "source": [
    "def find_concordance(word_to_find):\n",
    "    data_file = open('data/niraj-muang-klaeng-cleaned.txt')\n",
    "    new_words = {\"วาศนา\",\"สุราไลย\",\"รดา\",\"ชลา\",\"นัครา\",\"กระแสชล\",\"กอกก\",\"คเน\",\"มากมาย\"\n",
    "             ,\"อาไลย\",\"คนอง\",\"กระเทียม\",\"สท้าน\",\"ลออง\",\"ครึก\",\"สกิด\",\"ภัคตร์\",\"เขตร\",\n",
    "            \"แขง\",\"ไอสวรรย์\",\"พงา\",\"อุส่าห์\",\"พนาไลย\",\"พนาวัน\",\"ศรีมหาราชา\",\"มหาชลาไหล\"\n",
    "            ,\"มหาระนพ\",\"ตวัน\"}\n",
    "    words = new_words.union(thai_words())\n",
    "    custom_dictionary_trie = dict_trie(words)\n",
    "    concordance_list = []\n",
    "    # for each line\n",
    "    for poem_line in data_file:\n",
    "        tokenize = word_tokenize(poem_line,custom_dict=custom_dictionary_trie, engine=\"longest\")\n",
    "        tokenize = tokenize[:-1]# not include new line in end of text\n",
    "        for word_index in range(len(tokenize)):\n",
    "            if tokenize[word_index] == word_to_find:\n",
    "                start_index = max(0,word_index - 3)\n",
    "                end_index = min(word_index + 3,len(tokenize))\n",
    "                concordance = tokenize[start_index:end_index]\n",
    "                concordance_list.append(concordance)\n",
    "    return concordance_list\n",
    "        "
   ]
  },
  {
   "cell_type": "code",
   "execution_count": 116,
   "metadata": {},
   "outputs": [
    {
     "data": {
      "text/plain": [
       "[['ฦๅ', 'สท้าน', 'อยู่', 'ว่า', 'เจ้า', 'ห้าว'],\n",
       " ['ไทย', 'ไหว', 'แว่ว', 'ว่า', 'พงา', 'งาม'],\n",
       " ['เขา', 'ว่า', 'ลิง', 'จองหอง'],\n",
       " ['ด่า', 'คน', 'จึง', 'ว่า', 'ลิง', 'โลน'],\n",
       " ['ว่า', 'ผีสาง', 'สิง'],\n",
       " ['เจ้า', 'พุ่ม', 'พึมพำ', 'ว่า', 'กรรม', 'แล้ว'],\n",
       " ['เขา', 'ก็', 'ทัก', 'ว่า', 'ทรง', 'ซูบ'],\n",
       " ['นาย', 'แสง', 'วอน', 'ว่า', 'ให้', 'คลาไคล'],\n",
       " ['บอก', 'ว่า', 'ใกล้', 'ไกล'],\n",
       " ['ชาวบ้าน', 'บอก', 'มรคา', 'ว่า', 'กว่า', 'พัน'],\n",
       " ['ชั่ว', 'ที่', 'ชื่อ', 'ว่า', 'ไภยันต์'],\n",
       " ['ด้วย', 'ไม่', 'รู้', 'ว่า', 'สัตว์', 'ใด'],\n",
       " ['รู้', 'ว่า', 'แรด', 'กิน'],\n",
       " ['รู้', 'ว่า', 'ใกล้', 'ออก'],\n",
       " ['แช่มชื่น', 'ชวน', 'กัน', 'ว่า', 'จะ', 'คลาไคล'],\n",
       " ['จึง', 'กรวดน้ำ', 'ร่ำ', 'ว่า', 'ต่อ', 'อา'],\n",
       " ['แม้น', 'แจ้ง', 'การ', 'ว่า', 'พี่', 'จาก'],\n",
       " ['ต่าง', 'เพลิดเพลิน', 'เดิน', 'ว่า', 'เสภา', 'พลาง'],\n",
       " ['เปน', 'ว่า', 'ขี้คร้าน', 'ฟัง'],\n",
       " ['ผู้', 'เถ้า', 'เขา', 'ว่า', 'ปลา', 'มัน'],\n",
       " ['ล้ม', 'ไข้', 'คิด', 'ว่า', 'กาย', 'จะ'],\n",
       " ['คน', 'เขา', 'ก็', 'ว่า', 'ต้อง', 'อารักษ์'],\n",
       " ['ว่า', 'เพราะ', 'เก็บ'],\n",
       " ['พี่', 'ก็', 'รู้อยู่', 'ว่า', 'ปด'],\n",
       " ['จน', 'จิตร', 'คิดเห็น', 'ว่า', 'เปน', 'เคราะห์'],\n",
       " ['อาไลย', 'ลืม', 'หมาย', 'ว่า', 'วายวาง']]"
      ]
     },
     "execution_count": 116,
     "metadata": {},
     "output_type": "execute_result"
    }
   ],
   "source": [
    "list = find_concordance(\"ว่า\")\n",
    "list"
   ]
  },
  {
   "cell_type": "code",
   "execution_count": 98,
   "metadata": {},
   "outputs": [
    {
     "data": {
      "text/plain": [
       "[['ดอน', 'แดน', 'ป่า', 'พนาวัน']]"
      ]
     },
     "execution_count": 98,
     "metadata": {},
     "output_type": "execute_result"
    }
   ],
   "source": [
    "list"
   ]
  },
  {
   "cell_type": "code",
   "execution_count": null,
   "metadata": {},
   "outputs": [],
   "source": []
  }
 ],
 "metadata": {
  "kernelspec": {
   "display_name": "Python 3",
   "language": "python",
   "name": "python3"
  },
  "language_info": {
   "codemirror_mode": {
    "name": "ipython",
    "version": 3
   },
   "file_extension": ".py",
   "mimetype": "text/x-python",
   "name": "python",
   "nbconvert_exporter": "python",
   "pygments_lexer": "ipython3",
   "version": "3.8.2"
  }
 },
 "nbformat": 4,
 "nbformat_minor": 4
}
