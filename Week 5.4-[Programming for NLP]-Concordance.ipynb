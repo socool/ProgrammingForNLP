{
 "cells": [
  {
   "cell_type": "code",
   "execution_count": 117,
   "metadata": {},
   "outputs": [
    {
     "name": "stdout",
     "output_type": "stream",
     "text": [
      "Collecting https://github.com/PyThaiNLP/pythainlp/archive/dev.zip\n",
      "  Using cached https://github.com/PyThaiNLP/pythainlp/archive/dev.zip\n",
      "Requirement already satisfied (use --upgrade to upgrade): pythainlp==2.2.0.dev0 from https://github.com/PyThaiNLP/pythainlp/archive/dev.zip in /Users/bcorpse/.local/share/virtualenvs/bcorpse-QdCSTF1Z/lib/python3.8/site-packages\n",
      "Requirement already satisfied: dill>=0.3.0 in /Users/bcorpse/.local/share/virtualenvs/bcorpse-QdCSTF1Z/lib/python3.8/site-packages (from pythainlp==2.2.0.dev0) (0.3.1.1)\n",
      "Requirement already satisfied: nltk>=3.3 in /Users/bcorpse/.local/share/virtualenvs/bcorpse-QdCSTF1Z/lib/python3.8/site-packages (from pythainlp==2.2.0.dev0) (3.5)\n",
      "Requirement already satisfied: python-crfsuite>=0.9.6 in /Users/bcorpse/.local/share/virtualenvs/bcorpse-QdCSTF1Z/lib/python3.8/site-packages (from pythainlp==2.2.0.dev0) (0.9.7)\n",
      "Requirement already satisfied: requests>=2.22.0 in /Users/bcorpse/.local/share/virtualenvs/bcorpse-QdCSTF1Z/lib/python3.8/site-packages (from pythainlp==2.2.0.dev0) (2.23.0)\n",
      "Requirement already satisfied: tinydb>=3.0 in /Users/bcorpse/.local/share/virtualenvs/bcorpse-QdCSTF1Z/lib/python3.8/site-packages (from pythainlp==2.2.0.dev0) (3.15.2)\n",
      "Requirement already satisfied: tqdm>=4.1 in /Users/bcorpse/.local/share/virtualenvs/bcorpse-QdCSTF1Z/lib/python3.8/site-packages (from pythainlp==2.2.0.dev0) (4.45.0)\n",
      "Requirement already satisfied: regex in /Users/bcorpse/.local/share/virtualenvs/bcorpse-QdCSTF1Z/lib/python3.8/site-packages (from nltk>=3.3->pythainlp==2.2.0.dev0) (2020.4.4)\n",
      "Requirement already satisfied: click in /Users/bcorpse/.local/share/virtualenvs/bcorpse-QdCSTF1Z/lib/python3.8/site-packages (from nltk>=3.3->pythainlp==2.2.0.dev0) (7.1.1)\n",
      "Requirement already satisfied: joblib in /Users/bcorpse/.local/share/virtualenvs/bcorpse-QdCSTF1Z/lib/python3.8/site-packages (from nltk>=3.3->pythainlp==2.2.0.dev0) (0.14.1)\n",
      "Requirement already satisfied: idna<3,>=2.5 in /Users/bcorpse/.local/share/virtualenvs/bcorpse-QdCSTF1Z/lib/python3.8/site-packages (from requests>=2.22.0->pythainlp==2.2.0.dev0) (2.9)\n",
      "Requirement already satisfied: chardet<4,>=3.0.2 in /Users/bcorpse/.local/share/virtualenvs/bcorpse-QdCSTF1Z/lib/python3.8/site-packages (from requests>=2.22.0->pythainlp==2.2.0.dev0) (3.0.4)\n",
      "Requirement already satisfied: certifi>=2017.4.17 in /Users/bcorpse/.local/share/virtualenvs/bcorpse-QdCSTF1Z/lib/python3.8/site-packages (from requests>=2.22.0->pythainlp==2.2.0.dev0) (2020.4.5.1)\n",
      "Requirement already satisfied: urllib3!=1.25.0,!=1.25.1,<1.26,>=1.21.1 in /Users/bcorpse/.local/share/virtualenvs/bcorpse-QdCSTF1Z/lib/python3.8/site-packages (from requests>=2.22.0->pythainlp==2.2.0.dev0) (1.25.9)\n",
      "Building wheels for collected packages: pythainlp\n",
      "  Building wheel for pythainlp (setup.py) ... \u001b[?25ldone\n",
      "\u001b[?25h  Created wheel for pythainlp: filename=pythainlp-2.2.0.dev0-py3-none-any.whl size=13138354 sha256=83f8b65c89f78ca9e3d4e429e04181b26a3c96fee85d2b5d1ffce9b90759b00c\n",
      "  Stored in directory: /private/var/folders/r5/b13l8zcn6v99sq1l75grrp4h0000gn/T/pip-ephem-wheel-cache-cjruxfel/wheels/51/04/24/dbbb71f7536162532b7e9d1103f43f48f2f93a8c42e5bdd32b\n",
      "Successfully built pythainlp\n",
      "Requirement already satisfied: epitran in /Users/bcorpse/.local/share/virtualenvs/bcorpse-QdCSTF1Z/lib/python3.8/site-packages (1.8)\n",
      "Requirement already satisfied: regex in /Users/bcorpse/.local/share/virtualenvs/bcorpse-QdCSTF1Z/lib/python3.8/site-packages (from epitran) (2020.4.4)\n",
      "Requirement already satisfied: unicodecsv in /Users/bcorpse/.local/share/virtualenvs/bcorpse-QdCSTF1Z/lib/python3.8/site-packages (from epitran) (0.14.1)\n",
      "Requirement already satisfied: setuptools in /Users/bcorpse/.local/share/virtualenvs/bcorpse-QdCSTF1Z/lib/python3.8/site-packages (from epitran) (46.0.0)\n",
      "Requirement already satisfied: marisa-trie in /Users/bcorpse/.local/share/virtualenvs/bcorpse-QdCSTF1Z/lib/python3.8/site-packages (from epitran) (0.7.5)\n",
      "Requirement already satisfied: panphon>=0.16 in /Users/bcorpse/.local/share/virtualenvs/bcorpse-QdCSTF1Z/lib/python3.8/site-packages (from epitran) (0.17)\n",
      "Requirement already satisfied: PyYAML in /Users/bcorpse/.local/share/virtualenvs/bcorpse-QdCSTF1Z/lib/python3.8/site-packages (from panphon>=0.16->epitran) (5.3.1)\n",
      "Requirement already satisfied: editdistance in /Users/bcorpse/.local/share/virtualenvs/bcorpse-QdCSTF1Z/lib/python3.8/site-packages (from panphon>=0.16->epitran) (0.5.3)\n",
      "Requirement already satisfied: munkres in /Users/bcorpse/.local/share/virtualenvs/bcorpse-QdCSTF1Z/lib/python3.8/site-packages (from panphon>=0.16->epitran) (1.1.2)\n",
      "Requirement already satisfied: numpy in /Users/bcorpse/.local/share/virtualenvs/bcorpse-QdCSTF1Z/lib/python3.8/site-packages (from panphon>=0.16->epitran) (1.18.3)\n",
      "Requirement already satisfied: sklearn_crfsuite in /Users/bcorpse/.local/share/virtualenvs/bcorpse-QdCSTF1Z/lib/python3.8/site-packages (0.3.6)\n",
      "Requirement already satisfied: python-crfsuite>=0.8.3 in /Users/bcorpse/.local/share/virtualenvs/bcorpse-QdCSTF1Z/lib/python3.8/site-packages (from sklearn_crfsuite) (0.9.7)\n",
      "Requirement already satisfied: tqdm>=2.0 in /Users/bcorpse/.local/share/virtualenvs/bcorpse-QdCSTF1Z/lib/python3.8/site-packages (from sklearn_crfsuite) (4.45.0)\n",
      "Requirement already satisfied: tabulate in /Users/bcorpse/.local/share/virtualenvs/bcorpse-QdCSTF1Z/lib/python3.8/site-packages (from sklearn_crfsuite) (0.8.7)\n",
      "Requirement already satisfied: six in /Users/bcorpse/.local/share/virtualenvs/bcorpse-QdCSTF1Z/lib/python3.8/site-packages (from sklearn_crfsuite) (1.14.0)\n"
     ]
    }
   ],
   "source": [
    "!pip install https://github.com/PyThaiNLP/pythainlp/archive/dev.zip\n",
    "!pip install epitran\n",
    "!pip install sklearn_crfsuite"
   ]
  },
  {
   "cell_type": "code",
   "execution_count": 118,
   "metadata": {},
   "outputs": [],
   "source": [
    "from pythainlp.corpus.common import thai_words\n",
    "from pythainlp.tokenize import dict_trie\n",
    "from pythainlp import word_tokenize, Tokenizer"
   ]
  },
  {
   "cell_type": "code",
   "execution_count": 128,
   "metadata": {},
   "outputs": [],
   "source": [
    "def find_concordance(word_to_find):\n",
    "    data_file = open('data/niraj-muang-klaeng-cleaned.txt')\n",
    "    new_words = {\"วาศนา\",\"สุราไลย\",\"รดา\",\"ชลา\",\"นัครา\",\"กระแสชล\",\"กอกก\",\"คเน\",\"มากมาย\"\n",
    "             ,\"อาไลย\",\"คนอง\",\"กระเทียม\",\"สท้าน\",\"ลออง\",\"ครึก\",\"สกิด\",\"ภัคตร์\",\"เขตร\",\n",
    "            \"แขง\",\"ไอสวรรย์\",\"พงา\",\"อุส่าห์\",\"พนาไลย\",\"พนาวัน\",\"ศรีมหาราชา\",\"มหาชลาไหล\"\n",
    "            ,\"มหาระนพ\",\"ตวัน\",\"บรรไลย\"}\n",
    "    words = new_words.union(thai_words())\n",
    "    custom_dictionary_trie = dict_trie(words)\n",
    "    concordance_list = []\n",
    "    # for each line\n",
    "    for poem_line in data_file:\n",
    "        tokenize = word_tokenize(poem_line,custom_dict=custom_dictionary_trie, engine=\"longest\")\n",
    "        tokenize = tokenize[:-1]# not include new line in end of text\n",
    "        for word_index in range(len(tokenize)):\n",
    "            if tokenize[word_index] == word_to_find:\n",
    "                start_index = max(0,word_index - 3)\n",
    "                end_index = min(word_index + 3,len(tokenize))\n",
    "                concordance = tokenize[start_index:end_index]\n",
    "                concordance_list.append(concordance)\n",
    "    return concordance_list\n",
    "        "
   ]
  },
  {
   "cell_type": "code",
   "execution_count": 130,
   "metadata": {},
   "outputs": [
    {
     "data": {
      "text/plain": [
       "[['ตัวเมีย', 'พา', 'ผัว', 'ลอย', 'เที่ยว'],\n",
       " ['เขา', 'จับตัว', 'ผัว', 'ทิ้ง', 'ไว้'],\n",
       " ['เมีย', 'ตาย', 'ฝ่าย', 'ผัว', 'ก็', 'บรรไลย'],\n",
       " ['เสียง', 'ผัว', 'ผัว', 'ตัวเมีย'],\n",
       " ['เสียง', 'ผัว', 'ผัว', 'ตัวเมีย', 'เที่ยว'],\n",
       " ['ชนี', 'เวทนา', 'เที่ยวหา', 'ผัว']]"
      ]
     },
     "execution_count": 130,
     "metadata": {},
     "output_type": "execute_result"
    }
   ],
   "source": [
    "list = find_concordance(\"ผัว\")\n",
    "list"
   ]
  },
  {
   "cell_type": "code",
   "execution_count": 131,
   "metadata": {},
   "outputs": [
    {
     "data": {
      "text/plain": [
       "[['ตัวเมีย', 'พา', 'ผัว', 'ลอย', 'เที่ยว'],\n",
       " ['เขา', 'จับตัว', 'ผัว', 'ทิ้ง', 'ไว้'],\n",
       " ['เมีย', 'ตาย', 'ฝ่าย', 'ผัว', 'ก็', 'บรรไลย'],\n",
       " ['เสียง', 'ผัว', 'ผัว', 'ตัวเมีย'],\n",
       " ['เสียง', 'ผัว', 'ผัว', 'ตัวเมีย', 'เที่ยว'],\n",
       " ['ชนี', 'เวทนา', 'เที่ยวหา', 'ผัว']]"
      ]
     },
     "execution_count": 131,
     "metadata": {},
     "output_type": "execute_result"
    }
   ],
   "source": [
    "list"
   ]
  },
  {
   "cell_type": "code",
   "execution_count": null,
   "metadata": {},
   "outputs": [],
   "source": []
  }
 ],
 "metadata": {
  "kernelspec": {
   "display_name": "Python 3",
   "language": "python",
   "name": "python3"
  },
  "language_info": {
   "codemirror_mode": {
    "name": "ipython",
    "version": 3
   },
   "file_extension": ".py",
   "mimetype": "text/x-python",
   "name": "python",
   "nbconvert_exporter": "python",
   "pygments_lexer": "ipython3",
   "version": "3.8.2"
  }
 },
 "nbformat": 4,
 "nbformat_minor": 4
}
