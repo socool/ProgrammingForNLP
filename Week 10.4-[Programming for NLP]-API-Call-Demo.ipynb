{
 "cells": [
  {
   "cell_type": "code",
   "execution_count": 1,
   "metadata": {},
   "outputs": [],
   "source": [
    "endpoint = \"https://en.wikipedia.org/w/api.php\""
   ]
  },
  {
   "cell_type": "code",
   "execution_count": 3,
   "metadata": {},
   "outputs": [],
   "source": [
    "import requests"
   ]
  },
  {
   "cell_type": "code",
   "execution_count": 5,
   "metadata": {},
   "outputs": [],
   "source": [
    "result = requests.get(endpoint)"
   ]
  },
  {
   "cell_type": "code",
   "execution_count": 6,
   "metadata": {},
   "outputs": [
    {
     "data": {
      "text/plain": [
       "requests.models.Response"
      ]
     },
     "execution_count": 6,
     "metadata": {},
     "output_type": "execute_result"
    }
   ],
   "source": [
    "type(result)"
   ]
  },
  {
   "cell_type": "code",
   "execution_count": 10,
   "metadata": {},
   "outputs": [],
   "source": [
    "search_params = {\n",
    "    'list':'search',\n",
    "    'srprop':'',\n",
    "    'srlimit':4,\n",
    "    'srsearch':'Chulalongkorn',\n",
    "    'format':'json',\n",
    "    'action':'query'\n",
    "}"
   ]
  },
  {
   "cell_type": "code",
   "execution_count": 11,
   "metadata": {},
   "outputs": [],
   "source": [
    "results = requests.get(endpoint,search_params)"
   ]
  },
  {
   "cell_type": "code",
   "execution_count": 12,
   "metadata": {},
   "outputs": [
    {
     "data": {
      "text/plain": [
       "<Response [200]>"
      ]
     },
     "execution_count": 12,
     "metadata": {},
     "output_type": "execute_result"
    }
   ],
   "source": [
    "results"
   ]
  },
  {
   "cell_type": "code",
   "execution_count": 13,
   "metadata": {},
   "outputs": [
    {
     "data": {
      "text/plain": [
       "{'batchcomplete': '',\n",
       " 'continue': {'sroffset': 4, 'continue': '-||'},\n",
       " 'query': {'searchinfo': {'totalhits': 2184},\n",
       "  'search': [{'ns': 0, 'title': 'Chulalongkorn', 'pageid': 202262},\n",
       "   {'ns': 0, 'title': 'Chulalongkorn University', 'pageid': 548053},\n",
       "   {'ns': 0, 'title': 'List of children of Chulalongkorn', 'pageid': 29571332},\n",
       "   {'ns': 0, 'title': 'Chulalongkorn Bridge', 'pageid': 40659152}]}}"
      ]
     },
     "execution_count": 13,
     "metadata": {},
     "output_type": "execute_result"
    }
   ],
   "source": [
    "results.json()"
   ]
  },
  {
   "cell_type": "code",
   "execution_count": 14,
   "metadata": {},
   "outputs": [],
   "source": [
    "result_dict = results.json()"
   ]
  },
  {
   "cell_type": "code",
   "execution_count": 15,
   "metadata": {},
   "outputs": [
    {
     "data": {
      "text/plain": [
       "{'batchcomplete': '',\n",
       " 'continue': {'sroffset': 4, 'continue': '-||'},\n",
       " 'query': {'searchinfo': {'totalhits': 2184},\n",
       "  'search': [{'ns': 0, 'title': 'Chulalongkorn', 'pageid': 202262},\n",
       "   {'ns': 0, 'title': 'Chulalongkorn University', 'pageid': 548053},\n",
       "   {'ns': 0, 'title': 'List of children of Chulalongkorn', 'pageid': 29571332},\n",
       "   {'ns': 0, 'title': 'Chulalongkorn Bridge', 'pageid': 40659152}]}}"
      ]
     },
     "execution_count": 15,
     "metadata": {},
     "output_type": "execute_result"
    }
   ],
   "source": [
    "result_dict"
   ]
  },
  {
   "cell_type": "code",
   "execution_count": 18,
   "metadata": {},
   "outputs": [
    {
     "data": {
      "text/plain": [
       "[{'ns': 0, 'title': 'Chulalongkorn', 'pageid': 202262},\n",
       " {'ns': 0, 'title': 'Chulalongkorn University', 'pageid': 548053},\n",
       " {'ns': 0, 'title': 'List of children of Chulalongkorn', 'pageid': 29571332},\n",
       " {'ns': 0, 'title': 'Chulalongkorn Bridge', 'pageid': 40659152}]"
      ]
     },
     "execution_count": 18,
     "metadata": {},
     "output_type": "execute_result"
    }
   ],
   "source": [
    "result_dict['query']['search']"
   ]
  },
  {
   "cell_type": "code",
   "execution_count": 19,
   "metadata": {},
   "outputs": [
    {
     "data": {
      "text/plain": [
       "{'ns': 0, 'title': 'Chulalongkorn', 'pageid': 202262}"
      ]
     },
     "execution_count": 19,
     "metadata": {},
     "output_type": "execute_result"
    }
   ],
   "source": [
    "result_dict['query']['search'][0]"
   ]
  },
  {
   "cell_type": "code",
   "execution_count": 20,
   "metadata": {},
   "outputs": [
    {
     "data": {
      "text/plain": [
       "{'ns': 0, 'title': 'Chulalongkorn University', 'pageid': 548053}"
      ]
     },
     "execution_count": 20,
     "metadata": {},
     "output_type": "execute_result"
    }
   ],
   "source": [
    "result_dict['query']['search'][1]"
   ]
  },
  {
   "cell_type": "code",
   "execution_count": null,
   "metadata": {},
   "outputs": [],
   "source": [
    "result_dict['query']['search'][0]"
   ]
  }
 ],
 "metadata": {
  "kernelspec": {
   "display_name": "Python 3",
   "language": "python",
   "name": "python3"
  },
  "language_info": {
   "codemirror_mode": {
    "name": "ipython",
    "version": 3
   },
   "file_extension": ".py",
   "mimetype": "text/x-python",
   "name": "python",
   "nbconvert_exporter": "python",
   "pygments_lexer": "ipython3",
   "version": "3.8.2"
  }
 },
 "nbformat": 4,
 "nbformat_minor": 4
}
