{
 "cells": [
  {
   "cell_type": "code",
   "execution_count": 22,
   "metadata": {},
   "outputs": [],
   "source": [
    "def convert_date_format(date_str):\n",
    "    \"\"\"\n",
    "    >>> convert_date_format('03/15/2020')\n",
    "    '15 APR 2011'\n",
    "    \"\"\"\n",
    "    months = ['JAN',\"FEB\",'MAR','APR']\n",
    "    split_data_str = date_str.split(\"/\")\n",
    "    month = split_data_str[0]\n",
    "    day = split_data_str[1]\n",
    "    year = split_data_str[2]\n",
    "    print(month)\n",
    "    month_name = months[int(month) -1]\n",
    "    result = '{} {} {}'.format(day,month_name,year)\n",
    "    return result"
   ]
  },
  {
   "cell_type": "code",
   "execution_count": 25,
   "metadata": {},
   "outputs": [
    {
     "name": "stdout",
     "output_type": "stream",
     "text": [
      "03\n",
      "15 MAR 2020\n"
     ]
    }
   ],
   "source": [
    "print(convert_date_format(\"03/15/2020\"))"
   ]
  },
  {
   "cell_type": "code",
   "execution_count": null,
   "metadata": {},
   "outputs": [],
   "source": []
  }
 ],
 "metadata": {
  "kernelspec": {
   "display_name": "Python 3",
   "language": "python",
   "name": "python3"
  },
  "language_info": {
   "codemirror_mode": {
    "name": "ipython",
    "version": 3
   },
   "file_extension": ".py",
   "mimetype": "text/x-python",
   "name": "python",
   "nbconvert_exporter": "python",
   "pygments_lexer": "ipython3",
   "version": "3.8.2"
  }
 },
 "nbformat": 4,
 "nbformat_minor": 4
}
