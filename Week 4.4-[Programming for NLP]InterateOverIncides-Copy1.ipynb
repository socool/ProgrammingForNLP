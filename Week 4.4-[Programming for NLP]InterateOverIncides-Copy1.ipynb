{
 "cells": [
  {
   "cell_type": "code",
   "execution_count": 38,
   "metadata": {},
   "outputs": [],
   "source": [
    "import random\n",
    "def coin_flip():\n",
    "    if random.random() > 0.5:\n",
    "        print('HEAD')\n",
    "    else:\n",
    "        print('TAIL')"
   ]
  },
  {
   "cell_type": "code",
   "execution_count": 58,
   "metadata": {},
   "outputs": [
    {
     "name": "stdout",
     "output_type": "stream",
     "text": [
      "TAIL\n",
      "HEAD\n",
      "TAIL\n",
      "TAIL\n",
      "TAIL\n",
      "HEAD\n",
      "HEAD\n",
      "HEAD\n",
      "HEAD\n",
      "TAIL\n"
     ]
    }
   ],
   "source": [
    "for i in range(10):\n",
    "    coin_flip()"
   ]
  },
  {
   "cell_type": "code",
   "execution_count": 59,
   "metadata": {},
   "outputs": [
    {
     "data": {
      "text/plain": [
       "[0, 1, 2, 3, 4, 5, 6, 7, 8, 9]"
      ]
     },
     "execution_count": 59,
     "metadata": {},
     "output_type": "execute_result"
    }
   ],
   "source": [
    "list(range(10))"
   ]
  },
  {
   "cell_type": "code",
   "execution_count": 60,
   "metadata": {},
   "outputs": [],
   "source": [
    "data = 'Lorem ipsum dolor sit amet, consectetur adipiscing elit. In iaculis venenatis ligula quis pretium. Pellentesque in lobortis sapien, quis pulvinar leo. In vestibulum ac mi quis iaculis. Nulla aliquam erat nec ex convallis molestie.'"
   ]
  },
  {
   "cell_type": "code",
   "execution_count": 62,
   "metadata": {},
   "outputs": [],
   "source": [
    "words = data.split(\" \")"
   ]
  },
  {
   "cell_type": "code",
   "execution_count": 65,
   "metadata": {},
   "outputs": [],
   "source": [
    "def jump_words(text):\n",
    "    words = text.split(\" \")\n",
    "    for i in range(len(words)):\n",
    "        #หาร 2 ลงตัว\n",
    "        if i % 2 == 0:\n",
    "            print(words[i])\n",
    "            "
   ]
  },
  {
   "cell_type": "code",
   "execution_count": 66,
   "metadata": {},
   "outputs": [
    {
     "name": "stdout",
     "output_type": "stream",
     "text": [
      "Lorem\n",
      "dolor\n",
      "amet,\n",
      "adipiscing\n",
      "In\n",
      "venenatis\n",
      "quis\n",
      "Pellentesque\n",
      "lobortis\n",
      "quis\n",
      "leo.\n",
      "vestibulum\n",
      "mi\n",
      "iaculis.\n",
      "aliquam\n",
      "nec\n",
      "convallis\n"
     ]
    }
   ],
   "source": [
    "jump_words(data)"
   ]
  }
 ],
 "metadata": {
  "kernelspec": {
   "display_name": "Python 3",
   "language": "python",
   "name": "python3"
  },
  "language_info": {
   "codemirror_mode": {
    "name": "ipython",
    "version": 3
   },
   "file_extension": ".py",
   "mimetype": "text/x-python",
   "name": "python",
   "nbconvert_exporter": "python",
   "pygments_lexer": "ipython3",
   "version": "3.8.2"
  }
 },
 "nbformat": 4,
 "nbformat_minor": 4
}
