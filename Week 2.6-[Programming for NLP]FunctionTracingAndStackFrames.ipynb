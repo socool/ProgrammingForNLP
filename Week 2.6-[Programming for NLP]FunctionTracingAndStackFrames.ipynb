{
 "cells": [
  {
   "cell_type": "code",
   "execution_count": 2,
   "metadata": {},
   "outputs": [],
   "source": [
    "def convert_to_minutes(hours):\n",
    "    \"\"\"Convert hours to minutes\"\"\"\n",
    "    hour = hours * 60\n",
    "    return hours"
   ]
  },
  {
   "cell_type": "code",
   "execution_count": 3,
   "metadata": {},
   "outputs": [],
   "source": [
    "minutes1 = convert_to_minutes(2)"
   ]
  },
  {
   "cell_type": "code",
   "execution_count": 5,
   "metadata": {},
   "outputs": [],
   "source": [
    "hours = 5"
   ]
  },
  {
   "cell_type": "code",
   "execution_count": 6,
   "metadata": {},
   "outputs": [],
   "source": [
    "minutes2 = convert_to_minutes(hours)"
   ]
  },
  {
   "cell_type": "markdown",
   "metadata": {},
   "source": [
    "<a href=\"https://ibb.co/D1wtSpc\"><img src=\"https://i.ibb.co/BfTtSNW/Screen-Shot-2563-04-23-at-21-56-33.png\" alt=\"Screen-Shot-2563-04-23-at-21-56-33\" border=\"0\"></a>"
   ]
  },
  {
   "cell_type": "markdown",
   "metadata": {},
   "source": [
    "<a href=\"https://ibb.co/vsSCVbF\"><img src=\"https://i.ibb.co/pWS6bg7/Screen-Shot-2563-04-23-at-21-59-39.png\" alt=\"Screen-Shot-2563-04-23-at-21-59-39\" border=\"0\"></a>"
   ]
  },
  {
   "cell_type": "code",
   "execution_count": null,
   "metadata": {},
   "outputs": [],
   "source": []
  }
 ],
 "metadata": {
  "kernelspec": {
   "display_name": "Python 3",
   "language": "python",
   "name": "python3"
  },
  "language_info": {
   "codemirror_mode": {
    "name": "ipython",
    "version": 3
   },
   "file_extension": ".py",
   "mimetype": "text/x-python",
   "name": "python",
   "nbconvert_exporter": "python",
   "pygments_lexer": "ipython3",
   "version": "3.8.2"
  }
 },
 "nbformat": 4,
 "nbformat_minor": 4
}
